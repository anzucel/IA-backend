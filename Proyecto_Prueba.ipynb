{
 "cells": [
  {
   "cell_type": "code",
   "execution_count": 13,
   "id": "b8bb3676-b879-4171-913f-0ae4d5a9ed9b",
   "metadata": {},
   "outputs": [],
   "source": [
    "#librerias\n",
    "import pandas as pd\n",
    "import regex as re\n",
    "import nltk\n",
    "from sklearn.feature_extraction.text import CountVectorizer\n",
    "from sklearn.naive_bayes import MultinomialNB\n",
    "from sklearn.model_selection import train_test_split\n",
    "from sklearn.metrics import accuracy_score, classification_report"
   ]
  },
  {
   "cell_type": "code",
   "execution_count": 14,
   "id": "e2245e50-41ee-4cb9-87dc-b166eb0724c4",
   "metadata": {},
   "outputs": [
    {
     "name": "stderr",
     "output_type": "stream",
     "text": [
      "[nltk_data] Downloading package punkt to\n",
      "[nltk_data]     C:\\Users\\andre\\AppData\\Roaming\\nltk_data...\n",
      "[nltk_data]   Package punkt is already up-to-date!\n",
      "[nltk_data] Downloading package stopwords to\n",
      "[nltk_data]     C:\\Users\\andre\\AppData\\Roaming\\nltk_data...\n",
      "[nltk_data]   Package stopwords is already up-to-date!\n"
     ]
    },
    {
     "data": {
      "text/plain": [
       "True"
      ]
     },
     "execution_count": 14,
     "metadata": {},
     "output_type": "execute_result"
    }
   ],
   "source": [
    "# Recursos NLTK\n",
    "nltk.download('punkt')\n",
    "nltk.download('stopwords')"
   ]
  },
  {
   "cell_type": "code",
   "execution_count": 15,
   "id": "f2ece95f-3afe-4356-8107-008086051be5",
   "metadata": {},
   "outputs": [
    {
     "name": "stdout",
     "output_type": "stream",
     "text": [
      "Datos cargados correctamente\n",
      "        rotten_tomatoes_link        critic_name  top_critic  \\\n",
      "0                  m/0814255    Andrew L. Urban       False   \n",
      "1                  m/0814255      Louise Keller       False   \n",
      "2                  m/0814255                NaN       False   \n",
      "3                  m/0814255       Ben McEachen       False   \n",
      "4                  m/0814255        Ethan Alter        True   \n",
      "...                      ...                ...         ...   \n",
      "1130012          m/zulu_dawn      Chuck O'Leary       False   \n",
      "1130013          m/zulu_dawn          Ken Hanke       False   \n",
      "1130014          m/zulu_dawn    Dennis Schwartz       False   \n",
      "1130015          m/zulu_dawn  Christopher Lloyd       False   \n",
      "1130016          m/zulu_dawn     Brent McKnight       False   \n",
      "\n",
      "                          publisher_name review_type review_score review_date  \\\n",
      "0                         Urban Cinefile       Fresh          NaN  2010-02-06   \n",
      "1                         Urban Cinefile       Fresh          NaN  2010-02-06   \n",
      "2                    FILMINK (Australia)       Fresh          NaN  2010-02-09   \n",
      "3                Sunday Mail (Australia)       Fresh        3.5/5  2010-02-09   \n",
      "4                     Hollywood Reporter      Rotten          NaN  2010-02-10   \n",
      "...                                  ...         ...          ...         ...   \n",
      "1130012                 Fantastica Daily      Rotten          2/5  2005-11-02   \n",
      "1130013  Mountain Xpress (Asheville, NC)       Fresh        3.5/5  2007-03-07   \n",
      "1130014    Dennis Schwartz Movie Reviews       Fresh           B+  2010-09-16   \n",
      "1130015          Sarasota Herald-Tribune      Rotten        3.5/5  2011-02-28   \n",
      "1130016             The Last Thing I See      Rotten            C  2020-07-09   \n",
      "\n",
      "                                            review_content  \n",
      "0        A fantasy adventure that fuses Greek mythology...  \n",
      "1        Uma Thurman as Medusa, the gorgon with a coiff...  \n",
      "2        With a top-notch cast and dazzling special eff...  \n",
      "3        Whether audiences will get behind The Lightnin...  \n",
      "4        What's really lacking in The Lightning Thief i...  \n",
      "...                                                    ...  \n",
      "1130012                                                NaN  \n",
      "1130013  Seen today, it's not only a startling indictme...  \n",
      "1130014  A rousing visual spectacle that's a prequel of...  \n",
      "1130015  A simple two-act story: Prelude to war, and th...  \n",
      "1130016  Rides the line between being a pure artifact o...  \n",
      "\n",
      "[1130017 rows x 8 columns]\n"
     ]
    }
   ],
   "source": [
    "# Cargar datos csv\n",
    "data = pd.read_csv(r'C:\\Users\\andre\\OneDrive - Universidad Rafael Landivar\\PRIMER CICLO 2024\\IA\\PROYECTO\\archive\\rotten_tomatoes_critic_reviews.csv') \n",
    "print(\"Datos cargados correctamente\")\n",
    "print(data)"
   ]
  },
  {
   "cell_type": "code",
   "execution_count": 16,
   "id": "f3ae9f76-8384-45eb-85b5-fc9e9cfd8b0b",
   "metadata": {},
   "outputs": [],
   "source": [
    "# Preprocesamiento de datos\n",
    "def preprocess_text(text):\n",
    "    # minusculas\n",
    "    text = text.lower()\n",
    "    # tildes etc\n",
    "    text = re.sub(r'\\W', ' ', text)\n",
    "    # espacios\n",
    "    text = re.sub(r'\\s+', ' ', text)\n",
    "    return text"
   ]
  },
  {
   "cell_type": "code",
   "execution_count": 17,
   "id": "ff49b1b7-91c4-4355-8615-d1dc86edd6c6",
   "metadata": {},
   "outputs": [
    {
     "name": "stdout",
     "output_type": "stream",
     "text": [
      "Preprocesamiento completado. Primeras filas con texto limpiado:\n",
      "  review_type cleaned_reviews\n",
      "0       Fresh           fresh\n",
      "1       Fresh           fresh\n",
      "2       Fresh           fresh\n",
      "3       Fresh           fresh\n",
      "4      Rotten          rotten\n"
     ]
    }
   ],
   "source": [
    "# criticas\n",
    "data['cleaned_reviews'] = data['review_type'].apply(preprocess_text)\n",
    "print(\"Preprocesamiento completado. Primeras filas con texto limpiado:\")\n",
    "print(data[['review_type', 'cleaned_reviews']].head())"
   ]
  },
  {
   "cell_type": "code",
   "execution_count": 6,
   "id": "4a5e1aab-f59b-426e-848f-046683ec7d12",
   "metadata": {},
   "outputs": [
    {
     "name": "stdout",
     "output_type": "stream",
     "text": [
      "Datos divididos en entrenamiento y prueba.\n",
      "Tamaño del conjunto de entrenamiento: 904013\n",
      "Tamaño del conjunto de prueba: 226004\n"
     ]
    }
   ],
   "source": [
    "# Dividir los datos\n",
    "X_train, X_test, y_train, y_test = train_test_split(\n",
    "    data['cleaned_reviews'], data['top_critic'], test_size=0.2, random_state=42\n",
    ")\n",
    "print(\"Datos divididos en entrenamiento y prueba.\")\n",
    "print(f\"Tamaño del conjunto de entrenamiento: {len(X_train)}\")\n",
    "print(f\"Tamaño del conjunto de prueba: {len(X_test)}\")"
   ]
  },
  {
   "cell_type": "code",
   "execution_count": 7,
   "id": "93356610-c508-42d5-9d7c-aa11ae3bd434",
   "metadata": {},
   "outputs": [
    {
     "name": "stdout",
     "output_type": "stream",
     "text": [
      "Vectorización completada.\n",
      "Tamaño de la matriz de entrenamiento: (904013, 2)\n",
      "Tamaño de la matriz de prueba: (226004, 2)\n"
     ]
    }
   ],
   "source": [
    "# Convertir texto a una representación numérica usando Bag of Words\n",
    "vectorizer = CountVectorizer()\n",
    "X_train_bow = vectorizer.fit_transform(X_train)\n",
    "X_test_bow = vectorizer.transform(X_test)\n",
    "print(\"Vectorización completada.\")\n",
    "print(f\"Tamaño de la matriz de entrenamiento: {X_train_bow.shape}\")\n",
    "print(f\"Tamaño de la matriz de prueba: {X_test_bow.shape}\")"
   ]
  },
  {
   "cell_type": "code",
   "execution_count": 8,
   "id": "753c3a8e-d16d-4009-a323-0d75072d85fa",
   "metadata": {},
   "outputs": [
    {
     "name": "stdout",
     "output_type": "stream",
     "text": [
      "Modelo de Naive Bayes entrenado.\n"
     ]
    }
   ],
   "source": [
    "# Crear y entrenar el modelo de Naive Bayes\n",
    "model = MultinomialNB()\n",
    "model.fit(X_train_bow, y_train)\n",
    "print(\"Modelo de Naive Bayes entrenado.\")"
   ]
  },
  {
   "cell_type": "code",
   "execution_count": 9,
   "id": "4208e1b1-636b-407f-84b7-95a3f83e20ad",
   "metadata": {},
   "outputs": [
    {
     "name": "stdout",
     "output_type": "stream",
     "text": [
      "Predicciones realizadas.\n"
     ]
    }
   ],
   "source": [
    "# Hacer predicciones\n",
    "y_pred = model.predict(X_test_bow)\n",
    "print(\"Predicciones realizadas.\")"
   ]
  },
  {
   "cell_type": "code",
   "execution_count": 10,
   "id": "ef35bf6a-fd49-4c99-ac56-e53cfac05f0d",
   "metadata": {},
   "outputs": [
    {
     "name": "stdout",
     "output_type": "stream",
     "text": [
      "Evaluación del modelo:\n",
      "Accuracy: 0.7441638201093786\n"
     ]
    },
    {
     "name": "stderr",
     "output_type": "stream",
     "text": [
      "C:\\Users\\andre\\PycharmProjects\\IA- Prueba\\venv\\Lib\\site-packages\\sklearn\\metrics\\_classification.py:1509: UndefinedMetricWarning: Precision is ill-defined and being set to 0.0 in labels with no predicted samples. Use `zero_division` parameter to control this behavior.\n",
      "  _warn_prf(average, modifier, f\"{metric.capitalize()} is\", len(result))\n"
     ]
    },
    {
     "name": "stdout",
     "output_type": "stream",
     "text": [
      "Classification Report:\n",
      "               precision    recall  f1-score   support\n",
      "\n",
      "       False       0.74      1.00      0.85    168184\n",
      "        True       0.00      0.00      0.00     57820\n",
      "\n",
      "    accuracy                           0.74    226004\n",
      "   macro avg       0.37      0.50      0.43    226004\n",
      "weighted avg       0.55      0.74      0.64    226004\n",
      "\n"
     ]
    },
    {
     "name": "stderr",
     "output_type": "stream",
     "text": [
      "C:\\Users\\andre\\PycharmProjects\\IA- Prueba\\venv\\Lib\\site-packages\\sklearn\\metrics\\_classification.py:1509: UndefinedMetricWarning: Precision is ill-defined and being set to 0.0 in labels with no predicted samples. Use `zero_division` parameter to control this behavior.\n",
      "  _warn_prf(average, modifier, f\"{metric.capitalize()} is\", len(result))\n",
      "C:\\Users\\andre\\PycharmProjects\\IA- Prueba\\venv\\Lib\\site-packages\\sklearn\\metrics\\_classification.py:1509: UndefinedMetricWarning: Precision is ill-defined and being set to 0.0 in labels with no predicted samples. Use `zero_division` parameter to control this behavior.\n",
      "  _warn_prf(average, modifier, f\"{metric.capitalize()} is\", len(result))\n"
     ]
    }
   ],
   "source": [
    "# Evaluar el modelo\n",
    "print(\"Evaluación del modelo:\")\n",
    "print(\"Accuracy:\", accuracy_score(y_test, y_pred))\n",
    "print(\"Classification Report:\\n\", classification_report(y_test, y_pred))"
   ]
  },
  {
   "cell_type": "code",
   "execution_count": 11,
   "id": "0f63935e-4769-49ec-a3df-851445e9841d",
   "metadata": {},
   "outputs": [],
   "source": [
    "# Función para predecir nuevas críticas\n",
    "def classify_review(review):\n",
    "    cleaned_review = preprocess_text(review)\n",
    "    review_bow = vectorizer.transform([cleaned_review])\n",
    "    prediction = model.predict(review_bow)\n",
    "    return 'Fresh' if prediction[0] == 1 else 'Rotten'\n"
   ]
  },
  {
   "cell_type": "code",
   "execution_count": 12,
   "id": "1d313416-9d54-451e-a611-45b8de6b1f5d",
   "metadata": {},
   "outputs": [
    {
     "name": "stdout",
     "output_type": "stream",
     "text": [
      "Clasificación de una nueva crítica:\n",
      "Crítica: The movie was absolutely wonderful with stunning visuals.\n",
      "Resultado: Rotten\n"
     ]
    }
   ],
   "source": [
    "\n",
    "# Ejemplo de uso\n",
    "new_review = \"The movie was absolutely wonderful with stunning visuals.\"\n",
    "print(\"Clasificación de una nueva crítica:\")\n",
    "print(f\"Crítica: {new_review}\")\n",
    "print(\"Resultado:\", classify_review(new_review))"
   ]
  }
 ],
 "metadata": {
  "kernelspec": {
   "display_name": "Python 3 (ipykernel)",
   "language": "python",
   "name": "python3"
  },
  "language_info": {
   "codemirror_mode": {
    "name": "ipython",
    "version": 3
   },
   "file_extension": ".py",
   "mimetype": "text/x-python",
   "name": "python",
   "nbconvert_exporter": "python",
   "pygments_lexer": "ipython3",
   "version": "3.11.4"
  }
 },
 "nbformat": 4,
 "nbformat_minor": 5
}
