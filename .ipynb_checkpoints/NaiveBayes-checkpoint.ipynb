{
 "cells": [
  {
   "cell_type": "code",
   "execution_count": 81,
   "id": "1289561d-8d8d-499f-9366-8a753911f6fc",
   "metadata": {},
   "outputs": [],
   "source": [
    "import pandas as pd\n",
    "import numpy as np\n",
    "from scipy.sparse import csr_matrix\n",
    "from sklearn.feature_extraction.text import TfidfVectorizer\n",
    "from sklearn.model_selection import train_test_split\n",
    "from sklearn.naive_bayes import MultinomialNB\n",
    "from sklearn.metrics import accuracy_score, classification_report"
   ]
  },
  {
   "cell_type": "code",
   "execution_count": 83,
   "id": "440a7ae2-7bde-4ed0-b3ee-814ac53c4727",
   "metadata": {},
   "outputs": [
    {
     "name": "stdout",
     "output_type": "stream",
     "text": [
      "Datos cargados correctamente\n"
     ]
    }
   ],
   "source": [
    "data = pd.read_csv(r'C:\\Users\\andre\\OneDrive - Universidad Rafael Landivar\\PRIMER CICLO 2024\\IA\\PROYECTO\\archive\\rotten_tomatoes_critic_reviews.csv')\n",
    "print(\"Datos cargados correctamente\")"
   ]
  },
  {
   "cell_type": "code",
   "execution_count": 84,
   "id": "d30d5c45-b48d-4c8d-b5fe-b0055756b726",
   "metadata": {},
   "outputs": [
    {
     "name": "stdout",
     "output_type": "stream",
     "text": [
      "65806\n"
     ]
    }
   ],
   "source": [
    "print(data['review_content'].isnull().sum()) "
   ]
  },
  {
   "cell_type": "code",
   "execution_count": 85,
   "id": "fb72cc87-359d-4714-8fb2-447bc009b90c",
   "metadata": {},
   "outputs": [
    {
     "name": "stdout",
     "output_type": "stream",
     "text": [
      "  rotten_tomatoes_link      critic_name  top_critic           publisher_name  \\\n",
      "0            m/0814255  Andrew L. Urban       False           Urban Cinefile   \n",
      "1            m/0814255    Louise Keller       False           Urban Cinefile   \n",
      "2            m/0814255              NaN       False      FILMINK (Australia)   \n",
      "3            m/0814255     Ben McEachen       False  Sunday Mail (Australia)   \n",
      "4            m/0814255      Ethan Alter        True       Hollywood Reporter   \n",
      "\n",
      "   review_type review_score review_date  \\\n",
      "0            1          NaN  2010-02-06   \n",
      "1            1          NaN  2010-02-06   \n",
      "2            1          NaN  2010-02-09   \n",
      "3            1        3.5/5  2010-02-09   \n",
      "4            0          NaN  2010-02-10   \n",
      "\n",
      "                                      review_content  \n",
      "0  A fantasy adventure that fuses Greek mythology...  \n",
      "1  Uma Thurman as Medusa, the gorgon with a coiff...  \n",
      "2  With a top-notch cast and dazzling special eff...  \n",
      "3  Whether audiences will get behind The Lightnin...  \n",
      "4  What's really lacking in The Lightning Thief i...  \n"
     ]
    }
   ],
   "source": [
    "# Normalizar los datos\n",
    "data['review_type'] = data['review_type'].apply(lambda x: 1 if x == 'Fresh' else 0)\n",
    "data = data.dropna(subset=['review_content'])\n",
    "print(data.head())"
   ]
  },
  {
   "cell_type": "code",
   "execution_count": 86,
   "id": "0be30a23-e792-43fd-80fb-be11f556b318",
   "metadata": {},
   "outputs": [
    {
     "name": "stdout",
     "output_type": "stream",
     "text": [
      "0\n"
     ]
    }
   ],
   "source": [
    "print(data['review_content'].isnull().sum()) "
   ]
  },
  {
   "cell_type": "code",
   "execution_count": 87,
   "id": "943dc890-5d85-491c-b8b8-a851e53ee71b",
   "metadata": {},
   "outputs": [],
   "source": [
    "# Preparación de datos\n",
    "X = data['review_content']\n",
    "y = data['review_type']"
   ]
  },
  {
   "cell_type": "code",
   "execution_count": 88,
   "id": "01dc7710-771f-469e-9533-6487d19fe2e7",
   "metadata": {},
   "outputs": [],
   "source": [
    "# Convertir las reviews en una representación numérica\n",
    "vectorizer = TfidfVectorizer(stop_words='english')"
   ]
  },
  {
   "cell_type": "code",
   "execution_count": 89,
   "id": "f186e431-b2db-4fbe-86dd-1b0618d65506",
   "metadata": {},
   "outputs": [],
   "source": [
    "X = vectorizer.fit_transform(X)"
   ]
  },
  {
   "cell_type": "code",
   "execution_count": 90,
   "id": "11561758-02ae-45ee-bc8e-5670f0665465",
   "metadata": {},
   "outputs": [],
   "source": [
    "# Dividir el dataset en conjuntos de entrenamiento y prueba\n",
    "X_train, X_test, y_train, y_test = train_test_split(X, y, test_size=0.2, random_state=42)"
   ]
  },
  {
   "cell_type": "code",
   "execution_count": 94,
   "id": "b10fdb27-5e32-483c-8f74-f4f502dc7f7c",
   "metadata": {},
   "outputs": [],
   "source": [
    "# modelo\n",
    "class NaiveBayes:\n",
    "    def fit(self, X, y):\n",
    "        n_docs, n_features = X.shape\n",
    "        \n",
    "        # Contar las ocurrencias de cada clase\n",
    "        self.class_counts = np.bincount(y)\n",
    "        self.n_classes = len(self.class_counts)\n",
    "        \n",
    "        # Contar las ocurrencias de características por clase\n",
    "        self.feature_counts = np.zeros((self.n_classes, n_features))\n",
    "        for c in range(self.n_classes):\n",
    "            self.feature_counts[c, :] = X[y == c].sum(axis=0)\n",
    "        \n",
    "        # Calcular probabilidades logaritmicas\n",
    "        self.class_log_prior = np.log(self.class_counts) - np.log(n_docs)\n",
    "        self.feature_log_prob = np.log(self.feature_counts + 1) - np.log(self.feature_counts.sum(axis=1)[:, np.newaxis] + n_features)\n",
    "    \n",
    "    def predict(self, X):\n",
    "        return np.argmax(self.predict_log(X), axis=1)\n",
    "    \n",
    "    def predict_log(self, X):\n",
    "        return X @ self.feature_log_prob.T + self.class_log_prior"
   ]
  },
  {
   "cell_type": "code",
   "execution_count": 95,
   "id": "735421b2-3294-4f0d-bf22-39ce5614822e",
   "metadata": {},
   "outputs": [],
   "source": [
    "# Entrenar el modelo\n",
    "model = NaiveBayes()\n",
    "model.fit(X_train, y_train)"
   ]
  },
  {
   "cell_type": "code",
   "execution_count": 96,
   "id": "f5f5b32c-dca8-4a6c-bb5e-b6025afcefc0",
   "metadata": {},
   "outputs": [
    {
     "name": "stdout",
     "output_type": "stream",
     "text": [
      "Accuracy: 0.7834460141982588\n",
      "Classification Report:\n",
      "               precision    recall  f1-score   support\n",
      "\n",
      "           0       0.82      0.51      0.63     76483\n",
      "           1       0.77      0.94      0.85    136360\n",
      "\n",
      "    accuracy                           0.78    212843\n",
      "   macro avg       0.80      0.72      0.74    212843\n",
      "weighted avg       0.79      0.78      0.77    212843\n",
      "\n"
     ]
    }
   ],
   "source": [
    "# Evaluar el modelo\n",
    "y_pred = model.predict(X_test)\n",
    "print(\"Accuracy:\", accuracy_score(y_test, y_pred))\n",
    "print(\"Classification Report:\\n\", classification_report(y_test, y_pred))"
   ]
  },
  {
   "cell_type": "code",
   "execution_count": 97,
   "id": "42d5ae59-42b9-4bbd-b63f-2e0b4caa912a",
   "metadata": {},
   "outputs": [
    {
     "name": "stdout",
     "output_type": "stream",
     "text": [
      "Review: The movie was absolutely fantastic, I loved every moment of it!\n",
      "Classification: Fresh\n",
      "Review: The movie was terrible, I hated it and it was a waste of time.\n",
      "Classification: Rotten\n",
      "Review: Too many long, very pauses. The Story was slow. Very dissapointed\n",
      "Classification: Fresh\n"
     ]
    }
   ],
   "source": [
    "def classify_review(review):\n",
    "    review_transformed = vectorizer.transform([review])\n",
    "    prediction = model.predict(review_transformed)\n",
    "    return \"Fresh\" if prediction[0] == 1 else \"Rotten\"\n",
    "\n",
    "# Ejemplo de uso\n",
    "new_review = \"The movie was absolutely fantastic, I loved every moment of it!\"\n",
    "print(\"Review:\", new_review)\n",
    "print(\"Classification:\", classify_review(new_review))\n",
    "\n",
    "new_review = \"The movie was terrible, I hated it and it was a waste of time.\"\n",
    "print(\"Review:\", new_review)\n",
    "print(\"Classification:\", classify_review(new_review))\n",
    "\n",
    "new_review = \"Too many long, very pauses. The Story was slow. Very dissapointed\"\n",
    "print(\"Review:\", new_review)\n",
    "print(\"Classification:\", classify_review(new_review))\n"
   ]
  },
  {
   "cell_type": "code",
   "execution_count": 98,
   "id": "fcdf3690-943a-49f6-ac39-622b8ec482e6",
   "metadata": {},
   "outputs": [
    {
     "name": "stdout",
     "output_type": "stream",
     "text": [
      "Review: Such an original and hearfelt movie! Easily best picture of the year!\n",
      "Classification: Fresh\n"
     ]
    }
   ],
   "source": [
    "new_review = \"Such an original and hearfelt movie! Easily best picture of the year!\"\n",
    "print(\"Review:\", new_review)\n",
    "print(\"Classification:\", classify_review(new_review))"
   ]
  },
  {
   "cell_type": "code",
   "execution_count": 99,
   "id": "0dcf60af-25c3-4a10-8d83-c859e31e8f8b",
   "metadata": {},
   "outputs": [
    {
     "name": "stdout",
     "output_type": "stream",
     "text": [
      "Review: Nicely done film. Lee is excellent as the reviews have said. There are some absolutely perfectly staged shots as well.\n",
      "Classification: Fresh\n"
     ]
    }
   ],
   "source": [
    "new_review = \"Nicely done film. Lee is excellent as the reviews have said. There are some absolutely perfectly staged shots as well.\"\n",
    "print(\"Review:\", new_review)\n",
    "print(\"Classification:\", classify_review(new_review))"
   ]
  },
  {
   "cell_type": "code",
   "execution_count": 100,
   "id": "b4e2a0b0-ad2e-4cfd-8ed3-07c75750e00f",
   "metadata": {},
   "outputs": [
    {
     "name": "stdout",
     "output_type": "stream",
     "text": [
      "Review: Poor writing undermines an otherwise interesting story. Too many bad choices in the writing that just don't add up and definitely would not hold up to repeated viewings.\n",
      "Classification: Rotten\n"
     ]
    }
   ],
   "source": [
    "new_review = \"Poor writing undermines an otherwise interesting story. Too many bad choices in the writing that just don't add up and definitely would not hold up to repeated viewings.\"\n",
    "print(\"Review:\", new_review)\n",
    "print(\"Classification:\", classify_review(new_review))"
   ]
  },
  {
   "cell_type": "code",
   "execution_count": 101,
   "id": "ea4644af-c0a5-4f61-bd59-32b3c5d29163",
   "metadata": {},
   "outputs": [
    {
     "name": "stdout",
     "output_type": "stream",
     "text": [
      "Review: Tried but just too slow and boring. There may have been a crumb of a good story somewhere in there, but I couldn't stay away through the second episode, always a bad sign for a new series.\n",
      "Classification: Rotten\n"
     ]
    }
   ],
   "source": [
    "new_review = \"Tried but just too slow and boring. There may have been a crumb of a good story somewhere in there, but I couldn't stay away through the second episode, always a bad sign for a new series.\"\n",
    "print(\"Review:\", new_review)\n",
    "print(\"Classification:\", classify_review(new_review))"
   ]
  },
  {
   "cell_type": "code",
   "execution_count": 102,
   "id": "c7e9bb9d-8c4d-422e-aec9-9e9e8d07b996",
   "metadata": {},
   "outputs": [
    {
     "name": "stdout",
     "output_type": "stream",
     "text": [
      "Review: So boring and slow. I fell asleep halfway through second episode.\n",
      "Classification: Rotten\n"
     ]
    }
   ],
   "source": [
    "new_review = \"So boring and slow. I fell asleep halfway through second episode.\"\n",
    "print(\"Review:\", new_review)\n",
    "print(\"Classification:\", classify_review(new_review))"
   ]
  },
  {
   "cell_type": "code",
   "execution_count": 103,
   "id": "a950fbbd-6a0e-42e0-84f9-5ea9dead8b19",
   "metadata": {},
   "outputs": [
    {
     "name": "stdout",
     "output_type": "stream",
     "text": [
      "Review: Two episodes in, so far pretty good.\n",
      "Classification: Fresh\n"
     ]
    }
   ],
   "source": [
    "new_review = \"Two episodes in, so far pretty good.\"\n",
    "print(\"Review:\", new_review)\n",
    "print(\"Classification:\", classify_review(new_review))"
   ]
  },
  {
   "cell_type": "code",
   "execution_count": 104,
   "id": "0df06e90-0417-493d-9ee6-d803c7c57ca5",
   "metadata": {},
   "outputs": [
    {
     "name": "stdout",
     "output_type": "stream",
     "text": [
      "Review: I dont know why the low rating, this show is phenomenal. Its depth and the acting are superb. Excited to see where the show goes!!!\n",
      "Classification: Fresh\n"
     ]
    }
   ],
   "source": [
    "new_review = \"I dont know why the low rating, this show is phenomenal. Its depth and the acting are superb. Excited to see where the show goes!!!\"\n",
    "print(\"Review:\", new_review)\n",
    "print(\"Classification:\", classify_review(new_review))"
   ]
  },
  {
   "cell_type": "code",
   "execution_count": null,
   "id": "a0f1d7fe-9598-4d53-b24e-baaf843f85bb",
   "metadata": {},
   "outputs": [],
   "source": []
  }
 ],
 "metadata": {
  "kernelspec": {
   "display_name": "Python 3 (ipykernel)",
   "language": "python",
   "name": "python3"
  },
  "language_info": {
   "codemirror_mode": {
    "name": "ipython",
    "version": 3
   },
   "file_extension": ".py",
   "mimetype": "text/x-python",
   "name": "python",
   "nbconvert_exporter": "python",
   "pygments_lexer": "ipython3",
   "version": "3.11.4"
  }
 },
 "nbformat": 4,
 "nbformat_minor": 5
}
